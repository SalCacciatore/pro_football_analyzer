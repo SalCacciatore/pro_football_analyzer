{
 "cells": [
  {
   "cell_type": "code",
   "execution_count": 9,
   "id": "f2bdc669",
   "metadata": {},
   "outputs": [],
   "source": [
    "import pandas as pd\n",
    "import xgboost as xgb\n",
    "from sklearn.model_selection import train_test_split, GridSearchCV\n",
    "from sklearn.metrics import roc_auc_score, brier_score_loss, mean_squared_error\n",
    "from sklearn.calibration import CalibrationDisplay\n",
    "import numpy as np\n",
    "import matplotlib.pyplot as pl"
   ]
  },
  {
   "cell_type": "code",
   "execution_count": 10,
   "id": "c3755c25",
   "metadata": {},
   "outputs": [
    {
     "name": "stderr",
     "output_type": "stream",
     "text": [
      "C:\\Users\\src15\\AppData\\Local\\Temp\\ipykernel_21528\\2001587006.py:33: PerformanceWarning: DataFrame is highly fragmented.  This is usually the result of calling `frame.insert` many times, which has poor performance.  Consider joining all columns at once using pd.concat(axis=1) instead. To get a de-fragmented frame, use `newframe = frame.copy()`\n",
      "  data['turnover'] = data['interception'] + data['fumble_lost']\n",
      "C:\\Users\\src15\\AppData\\Local\\Temp\\ipykernel_21528\\2001587006.py:33: SettingWithCopyWarning: \n",
      "A value is trying to be set on a copy of a slice from a DataFrame.\n",
      "Try using .loc[row_indexer,col_indexer] = value instead\n",
      "\n",
      "See the caveats in the documentation: https://pandas.pydata.org/pandas-docs/stable/user_guide/indexing.html#returning-a-view-versus-a-copy\n",
      "  data['turnover'] = data['interception'] + data['fumble_lost']\n",
      "C:\\Users\\src15\\AppData\\Local\\Temp\\ipykernel_21528\\2001587006.py:35: PerformanceWarning: DataFrame is highly fragmented.  This is usually the result of calling `frame.insert` many times, which has poor performance.  Consider joining all columns at once using pd.concat(axis=1) instead. To get a de-fragmented frame, use `newframe = frame.copy()`\n",
      "  data['inside_10'] = (data['yardline_100'] < 10).astype(int)\n",
      "C:\\Users\\src15\\AppData\\Local\\Temp\\ipykernel_21528\\2001587006.py:36: PerformanceWarning: DataFrame is highly fragmented.  This is usually the result of calling `frame.insert` many times, which has poor performance.  Consider joining all columns at once using pd.concat(axis=1) instead. To get a de-fragmented frame, use `newframe = frame.copy()`\n",
      "  data['20+_play'] = (data['yards_gained'] > 19).astype(int)\n",
      "C:\\Users\\src15\\AppData\\Local\\Temp\\ipykernel_21528\\2001587006.py:37: PerformanceWarning: DataFrame is highly fragmented.  This is usually the result of calling `frame.insert` many times, which has poor performance.  Consider joining all columns at once using pd.concat(axis=1) instead. To get a de-fragmented frame, use `newframe = frame.copy()`\n",
      "  data['short_pass'] = (data['air_yards'] < 10).astype(int)\n",
      "C:\\Users\\src15\\AppData\\Local\\Temp\\ipykernel_21528\\2001587006.py:38: PerformanceWarning: DataFrame is highly fragmented.  This is usually the result of calling `frame.insert` many times, which has poor performance.  Consider joining all columns at once using pd.concat(axis=1) instead. To get a de-fragmented frame, use `newframe = frame.copy()`\n",
      "  data['medium_pass'] = ((data['air_yards'] > 9)&(data['air_yards']<20)).astype(int)\n",
      "C:\\Users\\src15\\AppData\\Local\\Temp\\ipykernel_21528\\2001587006.py:39: PerformanceWarning: DataFrame is highly fragmented.  This is usually the result of calling `frame.insert` many times, which has poor performance.  Consider joining all columns at once using pd.concat(axis=1) instead. To get a de-fragmented frame, use `newframe = frame.copy()`\n",
      "  data['deep_pass'] = (data['air_yards'] > 19).astype(int)\n",
      "C:\\Users\\src15\\AppData\\Local\\Temp\\ipykernel_21528\\2001587006.py:40: PerformanceWarning: DataFrame is highly fragmented.  This is usually the result of calling `frame.insert` many times, which has poor performance.  Consider joining all columns at once using pd.concat(axis=1) instead. To get a de-fragmented frame, use `newframe = frame.copy()`\n",
      "  data['end_zone_target'] = (data['yardline_100'] - data['air_yards']) <= 0\n",
      "C:\\Users\\src15\\AppData\\Local\\Temp\\ipykernel_21528\\2001587006.py:41: PerformanceWarning: DataFrame is highly fragmented.  This is usually the result of calling `frame.insert` many times, which has poor performance.  Consider joining all columns at once using pd.concat(axis=1) instead. To get a de-fragmented frame, use `newframe = frame.copy()`\n",
      "  data['fantasy_points'] = (\n",
      "C:\\Users\\src15\\AppData\\Local\\Temp\\ipykernel_21528\\2001587006.py:46: PerformanceWarning: DataFrame is highly fragmented.  This is usually the result of calling `frame.insert` many times, which has poor performance.  Consider joining all columns at once using pd.concat(axis=1) instead. To get a de-fragmented frame, use `newframe = frame.copy()`\n",
      "  data['distance_to_EZ_after_target'] = data['yardline_100'] - data['air_yards']\n"
     ]
    }
   ],
   "source": [
    "YEARS = [2018, 2019, 2020, 2021, 2022, 2023,2024]\n",
    "\n",
    "# %%\n",
    "data_all = pd.DataFrame()\n",
    "\n",
    "def calculate_seconds(row):\n",
    "    if row['qtr'] != 5:\n",
    "        return 3600 - row['game_seconds_remaining']\n",
    "    else:\n",
    "        return 600 - row['game_seconds_remaining'] + 3600\n",
    "\n",
    "\n",
    "def get_quarter_value(dataf):\n",
    "    if 'END QUARTER' in dataf['desc']:\n",
    "        return dataf['level_0']\n",
    "    else:\n",
    "        return None\n",
    "\n",
    "for i in YEARS:  \n",
    "    i_data = pd.read_csv('https://github.com/nflverse/nflverse-data/releases/download/pbp/' \\\n",
    "                   'play_by_play_' + str(i) + '.csv.gz',\n",
    "                   compression= 'gzip', low_memory= False)\n",
    "\n",
    "    data_all = pd.concat([data_all,i_data])\n",
    "\n",
    "ppr = 1\n",
    "\n",
    "data = data_all.loc[data_all.season_type=='REG']\n",
    "#data = data_all.loc[(data_all.play_type.isin(['no_play','pass','run'])) & (data_all.epa.isna()==False)]\n",
    "#data.loc[data['pass']==1, 'play_type'] = 'pass'\n",
    "#data.loc[data.rush==1, 'play_type'] = 'run'\n",
    "data.reset_index(drop=True, inplace=True)\n",
    "data['turnover'] = data['interception'] + data['fumble_lost']\n",
    "data = data.dropna(subset=['posteam'])\n",
    "data['inside_10'] = (data['yardline_100'] < 10).astype(int)\n",
    "data['20+_play'] = (data['yards_gained'] > 19).astype(int)\n",
    "data['short_pass'] = (data['air_yards'] < 10).astype(int)\n",
    "data['medium_pass'] = ((data['air_yards'] > 9)&(data['air_yards']<20)).astype(int)\n",
    "data['deep_pass'] = (data['air_yards'] > 19).astype(int)\n",
    "data['end_zone_target'] = (data['yardline_100'] - data['air_yards']) <= 0\n",
    "data['fantasy_points'] = (\n",
    "    data['complete_pass'] * ppr +          # 1 point per completion\n",
    "    data['touchdown'] * 6 +           # 6 points per touchdown\n",
    "    data['yards_gained'] * 0.1        # 0.1 points per yard gained\n",
    ")\n",
    "data['distance_to_EZ_after_target'] = data['yardline_100'] - data['air_yards']\n"
   ]
  },
  {
   "cell_type": "code",
   "execution_count": 11,
   "id": "eb50b0f6",
   "metadata": {},
   "outputs": [],
   "source": [
    "def total_finder(home_or_away,home_total,away_total):\n",
    "    if home_or_away == 'home':\n",
    "        total = home_total\n",
    "    else:\n",
    "        total = away_total \n",
    "    return total"
   ]
  },
  {
   "cell_type": "code",
   "execution_count": 14,
   "id": "2bce6116",
   "metadata": {},
   "outputs": [
    {
     "name": "stderr",
     "output_type": "stream",
     "text": [
      "C:\\Users\\src15\\AppData\\Local\\Temp\\ipykernel_21528\\608691229.py:7: PerformanceWarning: DataFrame is highly fragmented.  This is usually the result of calling `frame.insert` many times, which has poor performance.  Consider joining all columns at once using pd.concat(axis=1) instead. To get a de-fragmented frame, use `newframe = frame.copy()`\n",
      "  data['home_implied_total'] = abs(data['total_line'] / 2 + data['spread_line'] / 2)\n",
      "C:\\Users\\src15\\AppData\\Local\\Temp\\ipykernel_21528\\608691229.py:8: PerformanceWarning: DataFrame is highly fragmented.  This is usually the result of calling `frame.insert` many times, which has poor performance.  Consider joining all columns at once using pd.concat(axis=1) instead. To get a de-fragmented frame, use `newframe = frame.copy()`\n",
      "  data['away_implied_total'] = abs(data['total_line'] / 2 - data['spread_line'] / 2)\n",
      "C:\\Users\\src15\\AppData\\Local\\Temp\\ipykernel_21528\\608691229.py:11: PerformanceWarning: DataFrame is highly fragmented.  This is usually the result of calling `frame.insert` many times, which has poor performance.  Consider joining all columns at once using pd.concat(axis=1) instead. To get a de-fragmented frame, use `newframe = frame.copy()`\n",
      "  data['implied_posteam_total'] = [\n"
     ]
    }
   ],
   "source": [
    "data.reset_index(drop=True, inplace=True)\n",
    "\n",
    "data = data[data['two_point_attempt']==0]\n",
    "\n",
    "\n",
    " # derive implied team total from betting market data\n",
    "data['home_implied_total'] = abs(data['total_line'] / 2 + data['spread_line'] / 2)\n",
    "data['away_implied_total'] = abs(data['total_line'] / 2 - data['spread_line'] / 2)\n",
    "\n",
    "    # Use list comprehension with zip for more efficient row-wise operations\n",
    "data['implied_posteam_total'] = [\n",
    "    total_finder(has_ball, home_number, away_number)\n",
    "        for has_ball, home_number, away_number in zip(data['posteam_type'], data['home_implied_total'], data['away_implied_total'])\n",
    "]\n",
    "\n",
    "    \n",
    "\n",
    "        \n",
    "    # we only want throws to a receiver, aka plays with air yardage (no running plays, sacks, throwaways etc.)\n",
    "throws = data[data['air_yards'].notna()]\n",
    "    # only data before the current szn\n",
    "throws = throws[throws['season']!=2024]\n",
    "throws = throws[throws['receiver_player_name'].notna()]\n",
    "throws = throws[throws['pass_location'].notna()]\n",
    "\n",
    "    \n",
    "df = throws[['receiver_player_name','receiver_player_id','posteam','pass','cp','game_id','complete_pass','inside_10','air_yards','yardline_100','ydstogo','implied_posteam_total','yards_gained','fantasy_points','pass_touchdown','down','pass_location','week','season','home_implied_total','away_implied_total','posteam_type','qb_hit','end_zone_target', 'distance_to_EZ_after_target']]\n"
   ]
  },
  {
   "cell_type": "code",
   "execution_count": null,
   "id": "06badee0",
   "metadata": {},
   "outputs": [],
   "source": []
  }
 ],
 "metadata": {
  "kernelspec": {
   "display_name": "Python 3",
   "language": "python",
   "name": "python3"
  },
  "language_info": {
   "codemirror_mode": {
    "name": "ipython",
    "version": 3
   },
   "file_extension": ".py",
   "mimetype": "text/x-python",
   "name": "python",
   "nbconvert_exporter": "python",
   "pygments_lexer": "ipython3",
   "version": "3.13.2"
  }
 },
 "nbformat": 4,
 "nbformat_minor": 5
}
